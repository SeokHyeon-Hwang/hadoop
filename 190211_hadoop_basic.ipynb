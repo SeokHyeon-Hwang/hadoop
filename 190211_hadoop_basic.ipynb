{
 "cells": [
  {
   "cell_type": "markdown",
   "metadata": {},
   "source": [
    "# hadoop 사용방법"
   ]
  },
  {
   "cell_type": "markdown",
   "metadata": {},
   "source": [
    "## 목차\n",
    "&nbsp; 01. 사용환경 만들기<br>\n",
    "&nbsp; 02. 기본 명령어\n"
   ]
  },
  {
   "cell_type": "markdown",
   "metadata": {},
   "source": [
    "### 01. 사용환경 만들기\n",
    "\n",
    "* VMware workstation player 다운로드\n",
    "* cloudera-Udacity 리눅스 파일 다운로드\n",
    "* VMware에서 open a Virtual Machine으로 열기"
   ]
  },
  {
   "cell_type": "markdown",
   "metadata": {},
   "source": [
    "![image](https://user-images.githubusercontent.com/42320146/52545743-49d23700-2dfd-11e9-9371-2af2ec03641e.png)\n"
   ]
  },
  {
   "cell_type": "markdown",
   "metadata": {},
   "source": [
    "### 02. 기본 명령어"
   ]
  },
  {
   "cell_type": "markdown",
   "metadata": {},
   "source": [
    "#### 02-01. ls\n",
    "HDFS to display the list of Files and Directories in HDFS."
   ]
  },
  {
   "cell_type": "markdown",
   "metadata": {},
   "source": [
    "![image](https://user-images.githubusercontent.com/42320146/52545988-2d36fe80-2dff-11e9-870c-90ab673d2871.png)\n"
   ]
  },
  {
   "cell_type": "markdown",
   "metadata": {},
   "source": [
    "#### 02-02. mkdir\n",
    "HDFS command to create the directory in HDFS"
   ]
  },
  {
   "attachments": {},
   "cell_type": "markdown",
   "metadata": {},
   "source": [
    "![image](https://user-images.githubusercontent.com/42320146/52546013-55266200-2dff-11e9-8d8d-4cf6ae532c47.png)\n"
   ]
  },
  {
   "cell_type": "markdown",
   "metadata": {},
   "source": [
    "#### 02-03. touchz\n",
    "HDFS command to create a file in HDFS with file size 0 bytes."
   ]
  },
  {
   "cell_type": "markdown",
   "metadata": {},
   "source": [
    "![image](https://user-images.githubusercontent.com/42320146/52546057-9b7bc100-2dff-11e9-9f6f-df6750252d90.png)"
   ]
  },
  {
   "cell_type": "markdown",
   "metadata": {},
   "source": [
    "#### 번외 cat, pwd<br>\n",
    "cat<br>\n",
    "<pre>\n",
    "    cat filename : 파일 내용 확인<br>\n",
    "    cat > filename : 파일 내용 덮어쓰기 모드<br>\n",
    "    cat >> filename : 파일 내용 밑에 추가하기 모드<br>\n",
    "    파일 쓰기 종료 : ctrl + d 또는 z\n",
    "</pre>\n",
    "<br>\n",
    "pwd : 현재 위치 확인"
   ]
  },
  {
   "cell_type": "markdown",
   "metadata": {},
   "source": [
    "![image](https://user-images.githubusercontent.com/42320146/52546195-9ff4a980-2e00-11e9-82b8-aefd72196c2d.png)\n"
   ]
  },
  {
   "cell_type": "markdown",
   "metadata": {},
   "source": [
    "#### 02-04. copyFromLocal\n",
    "HDFS command to copy the file from a Local file system to HDFS."
   ]
  },
  {
   "cell_type": "markdown",
   "metadata": {},
   "source": [
    "![image](https://user-images.githubusercontent.com/42320146/52546269-198c9780-2e01-11e9-950a-4e35cbf7687a.png)\n"
   ]
  },
  {
   "cell_type": "markdown",
   "metadata": {},
   "source": [
    "#### 02-05. cat\n",
    "HDFS command that reads a file on HDFS and prints the content of that file to the standard output."
   ]
  },
  {
   "cell_type": "markdown",
   "metadata": {},
   "source": [
    "![image](https://user-images.githubusercontent.com/42320146/52546319-7425f380-2e01-11e9-8534-09085a3b289b.png)\n"
   ]
  },
  {
   "cell_type": "markdown",
   "metadata": {},
   "source": [
    "#### 02-06. cp\n",
    "HDFS command to copy files from source to destination. This command allows multiple sources as well, in which case the destination must be a directory."
   ]
  },
  {
   "cell_type": "markdown",
   "metadata": {},
   "source": [
    "![image](https://user-images.githubusercontent.com/42320146/52546363-de3e9880-2e01-11e9-9cfb-08d4f2d02ef8.png)\n"
   ]
  },
  {
   "cell_type": "markdown",
   "metadata": {},
   "source": [
    "#### 02-07 rm\n",
    "파일 및 하위 디렉토리 삭제"
   ]
  },
  {
   "cell_type": "markdown",
   "metadata": {},
   "source": [
    "![image](https://user-images.githubusercontent.com/42320146/52546393-1cd45300-2e02-11e9-9122-28d786e3050c.png)\n"
   ]
  },
  {
   "cell_type": "markdown",
   "metadata": {},
   "source": [
    "#### 02-08 rmdir, rmr\n",
    "디렉토리 삭제 but 디렉토리 내에 파일이 없어야 삭제 가능<br>\n",
    "rmr로 디렉토리 통으로 삭제"
   ]
  },
  {
   "cell_type": "markdown",
   "metadata": {},
   "source": [
    "![image](https://user-images.githubusercontent.com/42320146/52546452-c6b3df80-2e02-11e9-8991-5dc69cba5200.png)\n"
   ]
  }
 ],
 "metadata": {
  "kernelspec": {
   "display_name": "Python 3",
   "language": "python",
   "name": "python3"
  },
  "language_info": {
   "codemirror_mode": {
    "name": "ipython",
    "version": 3
   },
   "file_extension": ".py",
   "mimetype": "text/x-python",
   "name": "python",
   "nbconvert_exporter": "python",
   "pygments_lexer": "ipython3",
   "version": "3.6.5"
  }
 },
 "nbformat": 4,
 "nbformat_minor": 2
}
