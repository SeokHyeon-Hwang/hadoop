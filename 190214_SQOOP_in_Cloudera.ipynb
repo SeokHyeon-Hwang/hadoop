{
  "nbformat": 4,
  "nbformat_minor": 0,
  "metadata": {
    "colab": {
      "name": "190214_SQOOP in Cloudera.ipynb",
      "version": "0.3.2",
      "provenance": [],
      "collapsed_sections": []
    },
    "kernelspec": {
      "name": "python3",
      "display_name": "Python 3"
    }
  },
  "cells": [
    {
      "metadata": {
        "id": "Cn4ORSQt4Vxw",
        "colab_type": "text"
      },
      "cell_type": "markdown",
      "source": [
        "# SQOOP in Cloudera"
      ]
    },
    {
      "metadata": {
        "id": "CTzH-MjL4i2F",
        "colab_type": "text"
      },
      "cell_type": "markdown",
      "source": [
        "## import \n",
        "* sqoop import --table cityByCountry --connect jdbc:mysql://localhost/training --user root --passqord 1234 --cloumns \"city, lat, lng\" --target-dir training/cityByCountry1"
      ]
    },
    {
      "metadata": {
        "id": "aCiDRxN-8TwH",
        "colab_type": "text"
      },
      "cell_type": "markdown",
      "source": [
        "### hdfs에 올린 데이터 확인\n",
        "* hdfs dfs -ls training/cityByCountry1\n",
        "\n"
      ]
    },
    {
      "metadata": {
        "id": "lNJ6M1xm8u6H",
        "colab_type": "text"
      },
      "cell_type": "markdown",
      "source": [
        "![image](https://user-images.githubusercontent.com/42320146/52759357-e9d2cf00-304e-11e9-81dd-899d39a6744c.png)\n"
      ]
    },
    {
      "metadata": {
        "id": "f5CwrMZC8-Xo",
        "colab_type": "text"
      },
      "cell_type": "markdown",
      "source": [
        "### 내용 확인\n",
        "* hdfs dfs -cat training/cityByCountry1/part-m-00000\n"
      ]
    },
    {
      "metadata": {
        "id": "wgnP71x49JH_",
        "colab_type": "text"
      },
      "cell_type": "markdown",
      "source": [
        "![image](https://user-images.githubusercontent.com/42320146/52759773-7f229300-3050-11e9-83f8-f56e5ac3c5c7.png)\n"
      ]
    },
    {
      "metadata": {
        "id": "jdgdjCSi6xfH",
        "colab_type": "text"
      },
      "cell_type": "markdown",
      "source": [
        "### export\n",
        "* 사전에 mysql에 'table'을 만들어 놓아야 가능하다.<br>\n",
        "* sqoop export --connect jdbc:mysql://localhost/training --username root --password 1234 --table sample_tbl2 --export-dir training/cityByCountry1"
      ]
    },
    {
      "metadata": {
        "id": "vsbCveC-7qBz",
        "colab_type": "text"
      },
      "cell_type": "markdown",
      "source": [
        "![image](https://user-images.githubusercontent.com/42320146/52759552-a3ca3b00-304f-11e9-89fa-93d37b5e0749.png)\n"
      ]
    },
    {
      "metadata": {
        "id": "Bao0dzh17-JM",
        "colab_type": "text"
      },
      "cell_type": "markdown",
      "source": [
        "![image](https://user-images.githubusercontent.com/42320146/52759591-c9574480-304f-11e9-8965-818ffeefad72.png)\n"
      ]
    },
    {
      "metadata": {
        "id": "RcMpmvq49iJ_",
        "colab_type": "text"
      },
      "cell_type": "markdown",
      "source": [
        "![image](https://user-images.githubusercontent.com/42320146/52759804-9b263480-3050-11e9-90e4-a3889f274df6.png)\n"
      ]
    },
    {
      "metadata": {
        "id": "HWUb1sVD9jkC",
        "colab_type": "text"
      },
      "cell_type": "markdown",
      "source": [
        "![image](https://user-images.githubusercontent.com/42320146/52759834-b4c77c00-3050-11e9-8675-914bbdf0f7f8.png)\n"
      ]
    },
    {
      "metadata": {
        "id": "3thXCqtO9slF",
        "colab_type": "text"
      },
      "cell_type": "markdown",
      "source": [
        "![image](https://user-images.githubusercontent.com/42320146/52759862-cc9f0000-3050-11e9-948d-1a0ad6490153.png)\n"
      ]
    },
    {
      "metadata": {
        "id": "IpFIieaP92pU",
        "colab_type": "text"
      },
      "cell_type": "markdown",
      "source": [
        "![image](https://user-images.githubusercontent.com/42320146/52759913-f9531780-3050-11e9-8fea-3ede5dfdb994.png)\n"
      ]
    }
  ]
}